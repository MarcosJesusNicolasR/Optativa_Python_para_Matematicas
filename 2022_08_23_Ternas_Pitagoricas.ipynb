{
  "nbformat": 4,
  "nbformat_minor": 0,
  "metadata": {
    "colab": {
      "provenance": [],
      "authorship_tag": "ABX9TyOkJK94nKRTpLfab6mFKJDG",
      "include_colab_link": true
    },
    "kernelspec": {
      "name": "python3",
      "display_name": "Python 3"
    },
    "language_info": {
      "name": "python"
    }
  },
  "cells": [
    {
      "cell_type": "markdown",
      "metadata": {
        "id": "view-in-github",
        "colab_type": "text"
      },
      "source": [
        "<a href=\"https://colab.research.google.com/github/MarcosJesusNicolasR/Optativa_Python_para_Matematicas/blob/main/2022_08_23_Ternas_Pitagoricas.ipynb\" target=\"_parent\"><img src=\"https://colab.research.google.com/assets/colab-badge.svg\" alt=\"Open In Colab\"/></a>"
      ]
    },
    {
      "cell_type": "markdown",
      "source": [
        "#**Ternas Pitagóricas**  \n",
        "\n",
        "Buscar todas las ternas pitagoricas que se pueden formar con numeros menores que $1000$."
      ],
      "metadata": {
        "id": "g_GMQet5OL_3"
      }
    },
    {
      "cell_type": "code",
      "execution_count": 15,
      "metadata": {
        "id": "eDbthKBbNxV1"
      },
      "outputs": [],
      "source": [
        "# Determina si una terna de numeros es Pitagorica\n",
        "def es_terna(x:int,y:int,z:int):\n",
        "    if x**2+y**2 == z**2:\n",
        "        return True\n",
        "    elif x**2+z**2 == y**2:\n",
        "        return True\n",
        "    elif z**2+y**2 == x**2:\n",
        "        return True\n",
        "    else:\n",
        "        return False\n",
        "\n",
        "# Busca todas las ternas que se pueden formar con numeros menores que n\n",
        "def ternas(n:int):\n",
        "    x1 = [i for i in range(n)]\n",
        "    y1 = [i for i in range(n)]\n",
        "    z1 = [i for i in range(n)]\n",
        "    terna = []\n",
        "    for x in x1:\n",
        "        con_1 = {x}\n",
        "        for y in y1:\n",
        "            if y not in con_1:\n",
        "                con_2 = con_1.union({y})\n",
        "                for z in z1:\n",
        "                    if z not in con_2:\n",
        "                        con_3 = con_2.union({z})\n",
        "                        ter = tuple(con_3)\n",
        "                        if es_terna(ter[0],ter[1],ter[2]) == True:\n",
        "                            terna.append((x,y,z))\n",
        "    return terna"
      ]
    },
    {
      "cell_type": "markdown",
      "source": [
        "Ternas Pitagoricas con numeros menores que $100$."
      ],
      "metadata": {
        "id": "w1thWgcBYIAb"
      }
    },
    {
      "cell_type": "code",
      "source": [
        "ternas_1 = ternas(100)\n",
        "ternas_1"
      ],
      "metadata": {
        "colab": {
          "base_uri": "https://localhost:8080/"
        },
        "id": "R3pystaVQLLM",
        "outputId": "3aa66bd8-eea5-46a7-f70b-bdd61f1c1b29"
      },
      "execution_count": 16,
      "outputs": [
        {
          "output_type": "execute_result",
          "data": {
            "text/plain": [
              "[(3, 4, 5),\n",
              " (3, 5, 4),\n",
              " (4, 3, 5),\n",
              " (4, 5, 3),\n",
              " (5, 3, 4),\n",
              " (5, 4, 3),\n",
              " (9, 12, 15),\n",
              " (9, 15, 12),\n",
              " (9, 40, 41),\n",
              " (9, 41, 40),\n",
              " (10, 24, 26),\n",
              " (10, 26, 24),\n",
              " (11, 60, 61),\n",
              " (11, 61, 60),\n",
              " (12, 9, 15),\n",
              " (12, 13, 5),\n",
              " (12, 15, 9),\n",
              " (12, 16, 20),\n",
              " (12, 20, 16),\n",
              " (12, 35, 37),\n",
              " (12, 37, 35),\n",
              " (13, 5, 12),\n",
              " (13, 12, 5),\n",
              " (15, 9, 12),\n",
              " (15, 12, 9),\n",
              " (16, 12, 20),\n",
              " (18, 24, 30),\n",
              " (18, 30, 24),\n",
              " (18, 80, 82),\n",
              " (18, 82, 80),\n",
              " (20, 29, 21),\n",
              " (20, 48, 52),\n",
              " (20, 52, 48),\n",
              " (24, 10, 26),\n",
              " (24, 18, 30),\n",
              " (24, 30, 18),\n",
              " (24, 32, 40),\n",
              " (27, 36, 45),\n",
              " (27, 45, 36),\n",
              " (28, 53, 45),\n",
              " (29, 20, 21),\n",
              " (29, 21, 20),\n",
              " (30, 18, 24),\n",
              " (30, 24, 18),\n",
              " (32, 24, 40),\n",
              " (32, 40, 24),\n",
              " (32, 60, 68),\n",
              " (33, 44, 55),\n",
              " (33, 55, 44),\n",
              " (33, 56, 65),\n",
              " (35, 12, 37),\n",
              " (35, 37, 12),\n",
              " (36, 27, 45),\n",
              " (36, 39, 15),\n",
              " (36, 45, 27),\n",
              " (36, 48, 60),\n",
              " (36, 60, 48),\n",
              " (36, 85, 77),\n",
              " (37, 12, 35),\n",
              " (37, 35, 12),\n",
              " (39, 15, 36),\n",
              " (39, 36, 15),\n",
              " (40, 9, 41),\n",
              " (40, 42, 58),\n",
              " (40, 75, 85),\n",
              " (40, 85, 75),\n",
              " (42, 40, 58),\n",
              " (42, 56, 70),\n",
              " (42, 58, 40),\n",
              " (42, 70, 56),\n",
              " (44, 33, 55),\n",
              " (44, 55, 33),\n",
              " (45, 27, 36),\n",
              " (45, 36, 27),\n",
              " (48, 20, 52),\n",
              " (48, 36, 60),\n",
              " (48, 80, 64),\n",
              " (51, 68, 85),\n",
              " (51, 85, 68),\n",
              " (53, 28, 45),\n",
              " (53, 45, 28),\n",
              " (55, 33, 44),\n",
              " (55, 44, 33),\n",
              " (56, 33, 65),\n",
              " (56, 42, 70),\n",
              " (56, 70, 42),\n",
              " (57, 76, 95),\n",
              " (57, 95, 76),\n",
              " (60, 11, 61),\n",
              " (60, 32, 68),\n",
              " (60, 61, 11),\n",
              " (60, 68, 32),\n",
              " (60, 87, 63),\n",
              " (61, 11, 60),\n",
              " (61, 60, 11),\n",
              " (64, 48, 80),\n",
              " (64, 80, 48),\n",
              " (65, 72, 97),\n",
              " (65, 97, 72),\n",
              " (68, 51, 85),\n",
              " (68, 85, 51),\n",
              " (70, 42, 56),\n",
              " (70, 56, 42),\n",
              " (72, 65, 97),\n",
              " (75, 40, 85),\n",
              " (75, 85, 40),\n",
              " (76, 57, 95),\n",
              " (76, 95, 57),\n",
              " (80, 18, 82),\n",
              " (84, 85, 13),\n",
              " (85, 13, 84),\n",
              " (85, 36, 77),\n",
              " (85, 40, 75),\n",
              " (85, 51, 68),\n",
              " (85, 68, 51),\n",
              " (85, 75, 40),\n",
              " (85, 84, 13),\n",
              " (87, 60, 63),\n",
              " (87, 63, 60),\n",
              " (95, 57, 76),\n",
              " (95, 76, 57)]"
            ]
          },
          "metadata": {},
          "execution_count": 16
        }
      ]
    }
  ]
}