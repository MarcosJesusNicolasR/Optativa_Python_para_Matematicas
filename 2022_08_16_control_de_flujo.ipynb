{
  "cells": [
    {
      "cell_type": "markdown",
      "source": [
        "# **Marcos Jesús Nicolás Romero**"
      ],
      "metadata": {
        "id": "pBtEL_PSM_QO"
      }
    },
    {
      "cell_type": "markdown",
      "metadata": {
        "id": "QGirjWggDPrN"
      },
      "source": [
        "Control de flujo\n",
        "================\n",
        "\n",
        "**Date:** 2022-08-16\n",
        "\n"
      ]
    },
    {
      "cell_type": "markdown",
      "metadata": {
        "id": "uhGfeE4fDPrP"
      },
      "source": [
        "## Control de flujo\n",
        "\n"
      ]
    },
    {
      "cell_type": "markdown",
      "metadata": {
        "id": "V7-zeY_cDPrP"
      },
      "source": [
        "### `if`\n",
        "\n"
      ]
    },
    {
      "cell_type": "code",
      "execution_count": 11,
      "metadata": {
        "colab": {
          "base_uri": "https://localhost:8080/"
        },
        "id": "WEeH1a5fDPrQ",
        "outputId": "1f9f8071-d1e4-404d-c1f3-23a53cc1fbc4"
      },
      "outputs": [
        {
          "output_type": "execute_result",
          "data": {
            "text/plain": [
              "['Juan Diego', 'Verania', 'Rosa', 'Yessica', 'Karen', 'Uriel', 'Ruth']"
            ]
          },
          "metadata": {},
          "execution_count": 11
        }
      ],
      "source": [
        "inscritos = [\"Juan Diego\", \"Verania\", \"Rosa\", \"Yessica\", \"Karen\"]\n",
        "oyentes = [\"Uriel\", \"Ruth\"]\n",
        "estudiantes = inscritos + oyentes\n",
        "estudiantes"
      ]
    },
    {
      "cell_type": "code",
      "execution_count": 2,
      "metadata": {
        "colab": {
          "base_uri": "https://localhost:8080/"
        },
        "id": "KMRuzJD5DPrQ",
        "outputId": "d794ae8e-4763-4ba1-afd0-8ff2a2cc8457"
      },
      "outputs": [
        {
          "output_type": "stream",
          "name": "stdout",
          "text": [
            "Son muchos estudiantes\n"
          ]
        }
      ],
      "source": [
        "if len(estudiantes) > 5:\n",
        "    print(\"Son muchos estudiantes\")"
      ]
    },
    {
      "cell_type": "code",
      "execution_count": 3,
      "metadata": {
        "colab": {
          "base_uri": "https://localhost:8080/"
        },
        "id": "un_L6bNnDPrR",
        "outputId": "956b618b-a704-49d7-ea6f-cff4af1e6359"
      },
      "outputs": [
        {
          "output_type": "stream",
          "name": "stdout",
          "text": [
            "Son pocos estudiantes. Ojalá entren oyentes\n"
          ]
        }
      ],
      "source": [
        "if len(estudiantes) > 10:\n",
        "    print(\"Son muchos estudiantes\")\n",
        "else:\n",
        "    print(\"Son pocos estudiantes\", end=\". \")\n",
        "    print(\"Ojalá entren oyentes\")"
      ]
    },
    {
      "cell_type": "code",
      "execution_count": 4,
      "metadata": {
        "colab": {
          "base_uri": "https://localhost:8080/"
        },
        "id": "HuaBa213DPrR",
        "outputId": "4af075d2-3d43-429d-b927-afe1992e1c74"
      },
      "outputs": [
        {
          "output_type": "stream",
          "name": "stdout",
          "text": [
            "Son cuando mucho cinco estudiantes\n"
          ]
        }
      ],
      "source": [
        "if len(inscritos) <= 5:\n",
        "    print(\"Son cuando mucho cinco estudiantes\")\n",
        "elif len(inscritos) == 6:\n",
        "    print(\"Son seis estudiantes\")\n",
        "else:\n",
        "    print(\"Son muchos estudiantes\", end=\". \")\n",
        "    print(\"Ojalá no entren oyentes\")"
      ]
    },
    {
      "cell_type": "markdown",
      "metadata": {
        "id": "FlIkduWLDPrS"
      },
      "source": [
        "### `for`\n",
        "\n"
      ]
    },
    {
      "cell_type": "code",
      "execution_count": 5,
      "metadata": {
        "colab": {
          "base_uri": "https://localhost:8080/"
        },
        "id": "KUeJyyZhDPrS",
        "outputId": "be01b94f-60b0-4392-c1f7-8150883a7a40"
      },
      "outputs": [
        {
          "output_type": "stream",
          "name": "stdout",
          "text": [
            "Hola Juan Diego ¿Cómo estás?\n",
            "Hola Verania ¿Cómo estás?\n",
            "Hola Rosa ¿Cómo estás?\n",
            "Hola Yessica ¿Cómo estás?\n",
            "Hola Karen ¿Cómo estás?\n",
            "Hola Uriel ¿Cómo estás?\n",
            "Hola Ruth ¿Cómo estás?\n"
          ]
        }
      ],
      "source": [
        "for estudiante in estudiantes:\n",
        "    print(\"Hola\", estudiante, \"¿Cómo estás?\")"
      ]
    },
    {
      "cell_type": "code",
      "execution_count": 6,
      "metadata": {
        "colab": {
          "base_uri": "https://localhost:8080/"
        },
        "id": "nYav_Dy1DPrT",
        "outputId": "7e64f878-b716-40cd-de84-11ed55603149"
      },
      "outputs": [
        {
          "output_type": "stream",
          "name": "stdout",
          "text": [
            "Hola Juan Diego\n",
            "Hola Verania\n",
            "Hola Rosa\n",
            "Hola Yessica\n",
            "Hola Karen\n",
            "Hola Uriel\n",
            "Hola Ruth\n"
          ]
        }
      ],
      "source": [
        "for i in range(len(estudiantes)):\n",
        "    print(\"Hola\", estudiantes[i])"
      ]
    },
    {
      "cell_type": "code",
      "execution_count": null,
      "metadata": {
        "id": "sbaB0o-6DPrU"
      },
      "outputs": [],
      "source": [
        "for j in range(3, -1, -1):\n",
        "    print(j)\n",
        "    if j == 0:\n",
        "        print(\"Booom\")"
      ]
    },
    {
      "cell_type": "code",
      "execution_count": 25,
      "metadata": {
        "colab": {
          "base_uri": "https://localhost:8080/"
        },
        "id": "mWAmusAeDPrU",
        "outputId": "ec1632d8-a36c-44a7-e81d-ec357dcb8ea8"
      },
      "outputs": [
        {
          "output_type": "execute_result",
          "data": {
            "text/plain": [
              "range(0, 7897987978979779878979797987987979779797979)"
            ]
          },
          "metadata": {},
          "execution_count": 25
        }
      ],
      "source": [
        "range(7897987978979779878979797987987979779797979)"
      ]
    },
    {
      "cell_type": "markdown",
      "metadata": {
        "id": "6QbuJLjMDPrU"
      },
      "source": [
        "La suma de todos los números del 1 al 100.\n",
        "\n"
      ]
    },
    {
      "cell_type": "code",
      "execution_count": null,
      "metadata": {
        "id": "1C8GKiULDPrV"
      },
      "outputs": [],
      "source": [
        "sum(range(101))"
      ]
    },
    {
      "cell_type": "markdown",
      "metadata": {
        "id": "nrgScQ5XDPrV"
      },
      "source": [
        "### break, continue y else en ciclos for\n",
        "\n"
      ]
    },
    {
      "cell_type": "markdown",
      "metadata": {
        "id": "CuwjrU5dDPrV"
      },
      "source": [
        "#### break\n",
        "\n"
      ]
    },
    {
      "cell_type": "markdown",
      "metadata": {
        "id": "6T3HnVNVDPrW"
      },
      "source": [
        "`break` sirve para interrumpir un ciclo for.\n",
        "\n"
      ]
    },
    {
      "cell_type": "code",
      "execution_count": 26,
      "metadata": {
        "colab": {
          "base_uri": "https://localhost:8080/"
        },
        "id": "Kd_pMcgXDPrW",
        "outputId": "755a988c-b206-45f9-b59c-4d236933965d"
      },
      "outputs": [
        {
          "output_type": "stream",
          "name": "stdout",
          "text": [
            "Hola Juan Diego ¿Cómo estás?\n",
            "Hola Verania ¿Cómo estás?\n",
            "Hola Rosa ¿Cómo estás?\n",
            "Hola Yessica ¿Cómo estás?\n",
            "Hola Karen ¿Cómo estás?\n",
            "Ya saludé a los inscritos\n"
          ]
        }
      ],
      "source": [
        "for estudiante in estudiantes:\n",
        "    print(\"Hola\", estudiante, \"¿Cómo estás?\")\n",
        "    if estudiante == \"Karen\":\n",
        "        break\n",
        "\n",
        "print(\"Ya saludé a los inscritos\")"
      ]
    },
    {
      "cell_type": "markdown",
      "metadata": {
        "id": "FDKpEErrDPrW"
      },
      "source": [
        "#### else en un ciclo for\n",
        "\n"
      ]
    },
    {
      "cell_type": "markdown",
      "metadata": {
        "id": "3fRqRBEVDPrW"
      },
      "source": [
        "La cláusula `else` en un ciclo `for` se ejecuta cuando el ciclo `for` termina de manera \"natural\", sin haber pasado por una cláusula `break`.\n",
        "\n"
      ]
    },
    {
      "cell_type": "code",
      "execution_count": 35,
      "metadata": {
        "colab": {
          "base_uri": "https://localhost:8080/"
        },
        "id": "I5H5Uzp6DPrW",
        "outputId": "5fe3b5df-5c89-42d4-c0e6-e82ff91792fa"
      },
      "outputs": [
        {
          "output_type": "stream",
          "name": "stdout",
          "text": [
            "2 es un número primo\n",
            "3 es un número primo\n",
            "4 es igual a 2 * 2\n",
            "5 es un número primo\n",
            "6 es igual a 2 * 3\n",
            "7 es un número primo\n",
            "8 es igual a 2 * 4\n",
            "9 es igual a 3 * 3\n"
          ]
        }
      ],
      "source": [
        "for n in range(2, 10):\n",
        "    for x in range(2, n):\n",
        "        if n % x == 0:\n",
        "            print(n, 'es igual a', x, '*', n//x)\n",
        "            break\n",
        "    else:\n",
        "        # se terminó de checar posibles divisores sin encontrar uno\n",
        "        print(n, 'es un número primo')"
      ]
    },
    {
      "cell_type": "markdown",
      "metadata": {
        "id": "GgZ0zthGDPrX"
      },
      "source": [
        "#### continue\n",
        "\n",
        "El **continue** es una instrucción que permite interrumpir un ciclo **for** de manera tal que pueda seguir con el contenido despues de la instrucción **continue**."
      ]
    },
    {
      "cell_type": "code",
      "execution_count": 38,
      "metadata": {
        "colab": {
          "base_uri": "https://localhost:8080/"
        },
        "id": "KDW_--G8DPrX",
        "outputId": "ca9280d2-5085-442c-e9b3-a94efccc47d8"
      },
      "outputs": [
        {
          "output_type": "stream",
          "name": "stdout",
          "text": [
            "Hola Juan Diego ¿Cómo estás?\n",
            "¿Qué materias estás llevando, Juan Diego ?\n",
            "Hola Verania ¿Cómo estás?\n",
            "¿Qué materias estás llevando, Verania ?\n",
            "Hola Rosa ¿Cómo estás?\n",
            "¿Qué materias estás llevando, Rosa ?\n",
            "Hola Yessica ¿Cómo estás?\n",
            "¿Qué materias estás llevando, Yessica ?\n",
            "Hola Karen ¿Cómo estás?\n",
            "¿Qué materias estás llevando, Karen ?\n",
            "Hola Uriel ¿Cómo estás?\n"
          ]
        }
      ],
      "source": [
        "for estudiante in estudiantes:\n",
        "    print(\"Hola\", estudiante, \"¿Cómo estás?\")\n",
        "    if estudiante in [\"Uriel\", \"Ruth\"]:\n",
        "        break\n",
        "    print(\"¿Qué materias estás llevando,\", estudiante,\"?\")"
      ]
    },
    {
      "cell_type": "markdown",
      "metadata": {
        "id": "4H3PQfdhDPrX"
      },
      "source": [
        "#### pass\n",
        "\n"
      ]
    },
    {
      "cell_type": "markdown",
      "metadata": {
        "id": "P4JFM4_VDPrX"
      },
      "source": [
        "La claúsula `pass` no hace nada, pero puede servir para que un programa incompleto sea sintácticamente correcto.\n",
        "\n"
      ]
    },
    {
      "cell_type": "code",
      "execution_count": 40,
      "metadata": {
        "colab": {
          "base_uri": "https://localhost:8080/"
        },
        "id": "vyAznngyDPrY",
        "outputId": "9c7b09db-ebf8-459e-85a0-a81679793199"
      },
      "outputs": [
        {
          "output_type": "stream",
          "name": "stdout",
          "text": [
            "Hola Juan Diego ¿Cómo estás?\n",
            "Hola Verania ¿Cómo estás?\n",
            "Hola Rosa ¿Cómo estás?\n",
            "Hola Yessica ¿Cómo estás?\n",
            "Hola Karen ¿Cómo estás?\n",
            "Hola Uriel ¿Cómo estás?\n",
            "Hola Ruth ¿Cómo estás?\n"
          ]
        }
      ],
      "source": [
        "for estudiante in estudiantes:\n",
        "    print(\"Hola\", estudiante, \"¿Cómo estás?\")\n",
        "    if estudiante in [\"Uriel\", \"Ruth\"]:\n",
        "        pass"
      ]
    },
    {
      "cell_type": "code",
      "execution_count": 41,
      "metadata": {
        "colab": {
          "base_uri": "https://localhost:8080/"
        },
        "id": "FCTD9lVTDPrY",
        "outputId": "20fcc7c7-5596-458b-a7fb-239e9a0cf2ff"
      },
      "outputs": [
        {
          "output_type": "stream",
          "name": "stdout",
          "text": [
            "Hola Juan Diego ¿Cómo estás?\n",
            "Hola Verania ¿Cómo estás?\n",
            "Hola Rosa ¿Cómo estás?\n",
            "Hola Yessica ¿Cómo estás?\n",
            "Hola Karen ¿Cómo estás?\n",
            "Hola Uriel ¿Cómo estás?\n",
            "Hola Uriel ¿Eres oyente?\n",
            "Hola Ruth ¿Cómo estás?\n",
            "Hola Ruth ¿Eres oyente?\n"
          ]
        }
      ],
      "source": [
        "for estudiante in estudiantes:\n",
        "    print(\"Hola\", estudiante, \"¿Cómo estás?\")\n",
        "    if estudiante in [\"Uriel\", \"Ruth\"]:\n",
        "        print(\"Hola\", estudiante, \"¿Eres oyente?\")"
      ]
    }
  ],
  "metadata": {
    "kernelspec": {
      "display_name": "Python 3",
      "language": "python",
      "name": "python3"
    },
    "language_info": {
      "codemirror_mode": {
        "name": "ipython",
        "version": 3
      },
      "file_extension": ".py",
      "mimetype": "text/x-python",
      "name": "python",
      "nbconvert_exporter": "python",
      "pygments_lexer": "ipython3",
      "version": "3.9.2"
    },
    "org": null,
    "colab": {
      "provenance": []
    }
  },
  "nbformat": 4,
  "nbformat_minor": 0
}