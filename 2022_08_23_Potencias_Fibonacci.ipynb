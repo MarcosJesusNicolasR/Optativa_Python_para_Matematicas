{
  "nbformat": 4,
  "nbformat_minor": 0,
  "metadata": {
    "colab": {
      "provenance": [],
      "authorship_tag": "ABX9TyOSSjSY3+oLNAuasdwjCmug",
      "include_colab_link": true
    },
    "kernelspec": {
      "name": "python3",
      "display_name": "Python 3"
    },
    "language_info": {
      "name": "python"
    }
  },
  "cells": [
    {
      "cell_type": "markdown",
      "metadata": {
        "id": "view-in-github",
        "colab_type": "text"
      },
      "source": [
        "<a href=\"https://colab.research.google.com/github/MarcosJesusNicolasR/Optativa_Python_para_Matematicas/blob/main/2022_08_23_Potencias_Fibonacci.ipynb\" target=\"_parent\"><img src=\"https://colab.research.google.com/assets/colab-badge.svg\" alt=\"Open In Colab\"/></a>"
      ]
    },
    {
      "cell_type": "markdown",
      "source": [
        "#**Potencias en la sucesión de Fibonacci**"
      ],
      "metadata": {
        "id": "KUvmYmR9A8ne"
      }
    },
    {
      "cell_type": "markdown",
      "source": [
        "En este documento se explora de manera experimental un curioso resultado publicado en el año 2006 en la revista [Annals of Mathematics](https://annals.math.princeton.edu/): Los únicas potencias perfectas en la sucesion de Fibonacci son el $0$, $1$, $8$ y el $144$."
      ],
      "metadata": {
        "id": "HBRcxwh9KSEW"
      }
    },
    {
      "cell_type": "markdown",
      "source": [
        "Para realizarlo vamos a contruir una función que genere los numeros de fibonacci y determine si el actual numero generado es potencia exacta dado un numero determinado. Para ello nos apoyamos en la función de **Sympy**\n",
        "```\n",
        "integer_nthroot(y, n)\n",
        "```\n",
        "\n"
      ],
      "metadata": {
        "id": "MTU19rt6Lcao"
      }
    },
    {
      "cell_type": "code",
      "execution_count": 12,
      "metadata": {
        "id": "Q5LU6npRA38T"
      },
      "outputs": [],
      "source": [
        "# Importamos la funcion de Sympy\n",
        "from sympy.core.power import integer_nthroot\n",
        "\n",
        "# Definimos la funcion que identifica potencias\n",
        "def fibonacci_potencias_exactas(n:int, pot=2):\n",
        "    potencia = []\n",
        "    a, b = 0, 1\n",
        "    while a < n:\n",
        "        if integer_nthroot(a, pot)[1] == True:\n",
        "            potencia.append(a)\n",
        "            a, b = b, a+b\n",
        "        else:\n",
        "            a, b = b, a+b\n",
        "    return potencia"
      ]
    },
    {
      "cell_type": "markdown",
      "source": [
        "Ahora sí podemos preguntarnos:  \n",
        "**¿Qué numeros de Fibonacci menores que $10^{20}$ que son cuadrados?**"
      ],
      "metadata": {
        "id": "bdO5GPz5BNYU"
      }
    },
    {
      "cell_type": "code",
      "source": [
        "# Encontramos los numeros de fibonacci menores que 10^20 que son cuadrados\n",
        "\n",
        "cuadrados = fibonacci_potencias_exactas(10**20,2)\n",
        "cuadrados"
      ],
      "metadata": {
        "colab": {
          "base_uri": "https://localhost:8080/"
        },
        "id": "lXcOQxajCOUz",
        "outputId": "437846d9-0850-4b78-fee6-a6644836080d"
      },
      "execution_count": 13,
      "outputs": [
        {
          "output_type": "execute_result",
          "data": {
            "text/plain": [
              "[0, 1, 1, 144]"
            ]
          },
          "metadata": {},
          "execution_count": 13
        }
      ]
    },
    {
      "cell_type": "markdown",
      "source": [
        "**¿Qué numeros de Fibonacci menores que $10^{20}$ que son cubos:?**"
      ],
      "metadata": {
        "id": "o9suSBB6CwA7"
      }
    },
    {
      "cell_type": "code",
      "source": [
        "cubos = fibonacci_potencias_exactas(10**20,3)\n",
        "cubos"
      ],
      "metadata": {
        "colab": {
          "base_uri": "https://localhost:8080/"
        },
        "id": "UL_PZPlYC6Cp",
        "outputId": "7bbf843d-2a0a-4947-a377-e1320c568966"
      },
      "execution_count": 14,
      "outputs": [
        {
          "output_type": "execute_result",
          "data": {
            "text/plain": [
              "[0, 1, 1, 8]"
            ]
          },
          "metadata": {},
          "execution_count": 14
        }
      ]
    },
    {
      "cell_type": "markdown",
      "source": [
        "**¿Qué numeros de Fibonacci menores que $10^{20}$ que son cuartas potencias?**"
      ],
      "metadata": {
        "id": "Xc__R6RDCyqM"
      }
    },
    {
      "cell_type": "code",
      "source": [
        "cuartas_potencias = fibonacci_potencias_exactas(10**20,4)\n",
        "cuartas_potencias"
      ],
      "metadata": {
        "colab": {
          "base_uri": "https://localhost:8080/"
        },
        "id": "lj4S63D5C69R",
        "outputId": "28a4888b-b7ce-4d9b-debc-99c231f7aa04"
      },
      "execution_count": 15,
      "outputs": [
        {
          "output_type": "execute_result",
          "data": {
            "text/plain": [
              "[0, 1, 1]"
            ]
          },
          "metadata": {},
          "execution_count": 15
        }
      ]
    },
    {
      "cell_type": "markdown",
      "source": [
        "[El lector puede acceder al artículo original en el que se publicó el resultado](https://annals.math.princeton.edu/wp-content/uploads/annals-v163-n3-p05.pdf)"
      ],
      "metadata": {
        "id": "WmvkPesmGpPG"
      }
    }
  ]
}