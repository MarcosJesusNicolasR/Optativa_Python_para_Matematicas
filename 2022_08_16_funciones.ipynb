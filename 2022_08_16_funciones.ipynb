{
  "cells": [
    {
      "cell_type": "markdown",
      "metadata": {
        "id": "view-in-github",
        "colab_type": "text"
      },
      "source": [
        "<a href=\"https://colab.research.google.com/github/MarcosJesusNicolasR/Optativa_Python_para_Matematicas/blob/main/2022_08_16_funciones.ipynb\" target=\"_parent\"><img src=\"https://colab.research.google.com/assets/colab-badge.svg\" alt=\"Open In Colab\"/></a>"
      ]
    },
    {
      "cell_type": "markdown",
      "metadata": {
        "id": "9tNeCKYrRlfP"
      },
      "source": [
        "Funciones\n",
        "=========\n",
        "\n",
        "**Date:** 2022-08-16\n",
        "\n"
      ]
    },
    {
      "cell_type": "markdown",
      "metadata": {
        "id": "MVq0dX96RlfR"
      },
      "source": [
        "## Funciones\n",
        "\n"
      ]
    },
    {
      "cell_type": "code",
      "execution_count": 1,
      "metadata": {
        "colab": {
          "base_uri": "https://localhost:8080/"
        },
        "id": "yDke62xjRlfR",
        "outputId": "bcf2d418-bd7f-49ef-fa19-d703ac1bc98c"
      },
      "outputs": [
        {
          "output_type": "execute_result",
          "data": {
            "text/plain": [
              "['Juan Diego', 'Verania', 'Rosa', 'Yessica', 'Karen', 'Uriel', 'Ruth']"
            ]
          },
          "metadata": {},
          "execution_count": 1
        }
      ],
      "source": [
        "inscritos = [\"Juan Diego\", \"Verania\", \"Rosa\", \"Yessica\", \"Karen\"]\n",
        "oyentes = [\"Uriel\", \"Ruth\"]\n",
        "estudiantes = inscritos + oyentes\n",
        "estudiantes"
      ]
    },
    {
      "cell_type": "code",
      "execution_count": 2,
      "metadata": {
        "colab": {
          "base_uri": "https://localhost:8080/"
        },
        "id": "va1X1obJRlfS",
        "outputId": "84669932-95d0-4895-cdc7-a61fcbde9cca"
      },
      "outputs": [
        {
          "output_type": "execute_result",
          "data": {
            "text/plain": [
              "49"
            ]
          },
          "metadata": {},
          "execution_count": 2
        }
      ],
      "source": [
        "cuadrado = 25\n",
        "\n",
        "def cuadrado(n):\n",
        "    return n**2\n",
        "\n",
        "cuadrado(7)"
      ]
    },
    {
      "cell_type": "code",
      "execution_count": 5,
      "metadata": {
        "colab": {
          "base_uri": "https://localhost:8080/"
        },
        "id": "eeZdDcyoRlfT",
        "outputId": "22e6d175-bf2c-4a8c-d003-4ccd41e2f481"
      },
      "outputs": [
        {
          "output_type": "stream",
          "name": "stdout",
          "text": [
            "¡Hola, Rafael! ¿Cómo estás?\n",
            "¿Qué materias llevas, Marcos?\n"
          ]
        }
      ],
      "source": [
        "def saludo(persona):\n",
        "    return \"¡Hola, \" + persona + \"! ¿Cómo estás?\"\n",
        "\n",
        "def materias(persona):\n",
        "    return \"¿Qué materias llevas, \" + persona + \"?\"\n",
        "\n",
        "print(saludo(\"Rafael\"))\n",
        "print(materias(\"Marcos\"))"
      ]
    },
    {
      "cell_type": "code",
      "execution_count": 6,
      "metadata": {
        "colab": {
          "base_uri": "https://localhost:8080/"
        },
        "id": "szPFbAIORlfT",
        "outputId": "b6e959ac-92d2-4d0e-e140-2ce43b35bf0a"
      },
      "outputs": [
        {
          "output_type": "stream",
          "name": "stdout",
          "text": [
            "¡Hola, Juan Diego! ¿Cómo estás?\n",
            "¿Qué materias llevas, Juan Diego?\n",
            "\n",
            "¡Hola, Verania! ¿Cómo estás?\n",
            "¿Qué materias llevas, Verania?\n",
            "\n",
            "¡Hola, Rosa! ¿Cómo estás?\n",
            "¿Qué materias llevas, Rosa?\n",
            "\n",
            "¡Hola, Yessica! ¿Cómo estás?\n",
            "¿Qué materias llevas, Yessica?\n",
            "\n",
            "¡Hola, Karen! ¿Cómo estás?\n",
            "¿Qué materias llevas, Karen?\n",
            "\n",
            "¡Hola, Uriel! ¿Cómo estás?\n",
            "¿Qué materias llevas, Uriel?\n",
            "\n",
            "¡Hola, Ruth! ¿Cómo estás?\n",
            "¿Qué materias llevas, Ruth?\n",
            "\n"
          ]
        }
      ],
      "source": [
        "for estudiante in estudiantes:\n",
        "    print(saludo(estudiante))\n",
        "    print(materias(estudiante))\n",
        "    print()"
      ]
    },
    {
      "cell_type": "code",
      "execution_count": 8,
      "metadata": {
        "colab": {
          "base_uri": "https://localhost:8080/"
        },
        "id": "dj8k1KAfRlfU",
        "outputId": "524b9754-a995-4ec4-a441-f06a9d56510c"
      },
      "outputs": [
        {
          "output_type": "execute_result",
          "data": {
            "text/plain": [
              "[0,\n",
              " 1,\n",
              " 1,\n",
              " 2,\n",
              " 3,\n",
              " 5,\n",
              " 8,\n",
              " 13,\n",
              " 21,\n",
              " 34,\n",
              " 55,\n",
              " 89,\n",
              " 144,\n",
              " 233,\n",
              " 377,\n",
              " 610,\n",
              " 987,\n",
              " 1597,\n",
              " 2584,\n",
              " 4181,\n",
              " 6765]"
            ]
          },
          "metadata": {},
          "execution_count": 8
        }
      ],
      "source": [
        "def cuadrados_fibonacci(n):\n",
        "    fibs = []\n",
        "    a, b = 0, 1\n",
        "    while a < n:\n",
        "        fibs.append(a)\n",
        "        a, b = b, a+b\n",
        "    return fibs\n",
        "\n",
        "cuadrados_fibonacci(10000)"
      ]
    },
    {
      "cell_type": "code",
      "execution_count": 9,
      "metadata": {
        "colab": {
          "base_uri": "https://localhost:8080/"
        },
        "id": "Fhy0msPYRlfU",
        "outputId": "77f475c9-77d5-4dde-bc0d-d365a4c79414"
      },
      "outputs": [
        {
          "output_type": "execute_result",
          "data": {
            "text/plain": [
              "[0, 1, 4, 9, 16, 25, 36, 49, 64, 81, 100]"
            ]
          },
          "metadata": {},
          "execution_count": 9
        }
      ],
      "source": [
        "def cuadrados(n):\n",
        "    cua = []\n",
        "    for i in range(n):\n",
        "        if i**2 <= n:\n",
        "            cua.append(i**2)\n",
        "        else:\n",
        "            break\n",
        "    return cua\n",
        "\n",
        "cuadrados(100)"
      ]
    },
    {
      "cell_type": "code",
      "execution_count": 10,
      "metadata": {
        "colab": {
          "base_uri": "https://localhost:8080/"
        },
        "id": "r6n901X7RlfV",
        "outputId": "11e8ff71-9c6e-4964-b2a7-5d44ffab291b"
      },
      "outputs": [
        {
          "output_type": "execute_result",
          "data": {
            "text/plain": [
              "4"
            ]
          },
          "metadata": {},
          "execution_count": 10
        }
      ],
      "source": [
        "int(4.999999999)"
      ]
    },
    {
      "cell_type": "code",
      "execution_count": 11,
      "metadata": {
        "colab": {
          "base_uri": "https://localhost:8080/"
        },
        "id": "CgCVXf3FRlfW",
        "outputId": "85fb66a3-a5a6-4eee-c287-56ac45bfa8f5"
      },
      "outputs": [
        {
          "output_type": "execute_result",
          "data": {
            "text/plain": [
              "(True, False, True)"
            ]
          },
          "metadata": {},
          "execution_count": 11
        }
      ],
      "source": [
        "from sympy import sqrt\n",
        "\n",
        "def es_cuadrado(n):\n",
        "    if int(sqrt(n)) ** 2 == n:\n",
        "        return True\n",
        "    else:\n",
        "        return False\n",
        "\n",
        "es_cuadrado(25), es_cuadrado(20), es_cuadrado(99999999222222222**2)"
      ]
    },
    {
      "cell_type": "code",
      "execution_count": 15,
      "metadata": {
        "colab": {
          "base_uri": "https://localhost:8080/"
        },
        "id": "YyNA2qoPRlfW",
        "outputId": "9225f5fd-d962-4d31-85e0-fc95ffd5f360"
      },
      "outputs": [
        {
          "output_type": "execute_result",
          "data": {
            "text/plain": [
              "[0, 1, 1, 144]"
            ]
          },
          "metadata": {},
          "execution_count": 15
        }
      ],
      "source": [
        "from sympy import sqrt\n",
        "\n",
        "def es_cuadrado(n):\n",
        "    return int(sqrt(n)) ** 2 == n\n",
        "\n",
        "def cuadrados_fibonacci(n):\n",
        "    fibs = []\n",
        "    a, b = 0, 1\n",
        "    while a < n:\n",
        "        if es_cuadrado(a):\n",
        "            fibs.append(a)\n",
        "        a, b = b, a+b\n",
        "    return fibs\n",
        "\n",
        "cuadrados_fibonacci(100000000000000000000000000)"
      ]
    },
    {
      "cell_type": "markdown",
      "source": [
        "Las siguiente funcion tiene la particularidad de no regresar nada (note que no tiene la intrucción ***return***). Este tipo de funciones son útiles por los procesos realizados sobre las entradas.  \n",
        "Algunos distinguen este tipo de funciones de las anteriores llamandolas **procedures** en lugar de **funtions**."
      ],
      "metadata": {
        "id": "do5uFVTcWrYb"
      }
    },
    {
      "cell_type": "code",
      "execution_count": 16,
      "metadata": {
        "colab": {
          "base_uri": "https://localhost:8080/"
        },
        "id": "0RKVaqJtRlfW",
        "outputId": "e8a47388-2cc0-4d0c-8253-5185e6728b81"
      },
      "outputs": [
        {
          "output_type": "stream",
          "name": "stdout",
          "text": [
            "-- ¡Qué milagro que viene por aquí!\n",
            "-- Vine a traerle este humilde obsequio\n",
            "-- ¿No quiere pasar a tomar una tacita de café?\n"
          ]
        }
      ],
      "source": [
        "def diálogo(evento, objeto, bebida):\n",
        "    print(f\"-- ¡Qué {evento} que viene por aquí!\")\n",
        "    print(f\"-- Vine a traerle este humilde {objeto}\")\n",
        "    print(f\"-- ¿No quiere pasar a tomar {bebida}?\")\n",
        "\n",
        "diálogo(\"milagro\", \"obsequio\", \"una tacita de café\")"
      ]
    },
    {
      "cell_type": "code",
      "execution_count": 18,
      "metadata": {
        "colab": {
          "base_uri": "https://localhost:8080/"
        },
        "id": "5X_51EasRlfX",
        "outputId": "12fae10e-1dcf-423d-82c4-935c877c6d43"
      },
      "outputs": [
        {
          "output_type": "stream",
          "name": "stdout",
          "text": [
            "-- ¡Qué casualidad que viene por aquí!\n",
            "-- Vine a traerle este humilde regalo\n",
            "-- ¿No quiere pasar a tomar un té?\n"
          ]
        }
      ],
      "source": [
        "diálogo(\"casualidad\", \"regalo\", \"un té\")"
      ]
    },
    {
      "cell_type": "code",
      "execution_count": 19,
      "metadata": {
        "colab": {
          "base_uri": "https://localhost:8080/"
        },
        "id": "_rnOPFXHRlfX",
        "outputId": "9df14243-e847-4077-9536-6774698041e1"
      },
      "outputs": [
        {
          "output_type": "stream",
          "name": "stdout",
          "text": [
            "-- ¡Qué milagro que viene por aquí!\n",
            "-- Vine a traerle este humilde obsequio\n",
            "-- ¿No quiere pasar a tomar una tacita de café?\n"
          ]
        }
      ],
      "source": [
        "def diálogo(evento=\"milagro\", objeto=\"obsequio\", bebida=\"una tacita de café\"):\n",
        "    print(f\"-- ¡Qué {evento} que viene por aquí!\")\n",
        "    print(f\"-- Vine a traerle este humilde {objeto}\")\n",
        "    print(f\"-- ¿No quiere pasar a tomar {bebida}?\")\n",
        "\n",
        "diálogo()"
      ]
    },
    {
      "cell_type": "code",
      "execution_count": 20,
      "metadata": {
        "colab": {
          "base_uri": "https://localhost:8080/"
        },
        "id": "QoKVpp0pRlfX",
        "outputId": "49172f25-2a29-4bbe-803c-89a40ece0466"
      },
      "outputs": [
        {
          "output_type": "stream",
          "name": "stdout",
          "text": [
            "-- ¡Qué casualidad que viene por aquí!\n",
            "-- Vine a traerle este humilde regalo\n",
            "-- ¿No quiere pasar a tomar un té?\n"
          ]
        }
      ],
      "source": [
        "diálogo(\"casualidad\", \"regalo\", \"un té\")"
      ]
    },
    {
      "cell_type": "code",
      "execution_count": 21,
      "metadata": {
        "colab": {
          "base_uri": "https://localhost:8080/"
        },
        "id": "7D517iIGRlfY",
        "outputId": "76414ab7-837e-4ef8-82f0-0b6b76965940"
      },
      "outputs": [
        {
          "output_type": "stream",
          "name": "stdout",
          "text": [
            "-- ¡Qué sorpresa que viene por aquí!\n",
            "-- Vine a traerle este humilde presente\n",
            "-- ¿No quiere pasar a tomar atole?\n"
          ]
        }
      ],
      "source": [
        "diálogo(bebida=\"atole\", evento=\"sorpresa\", objeto=\"presente\")"
      ]
    },
    {
      "cell_type": "code",
      "execution_count": 22,
      "metadata": {
        "colab": {
          "base_uri": "https://localhost:8080/"
        },
        "id": "0GkqCFwMRlfY",
        "outputId": "f189549a-6868-4726-aa97-1a987132da16"
      },
      "outputs": [
        {
          "output_type": "stream",
          "name": "stdout",
          "text": [
            "-- ¡Qué milagro que viene por aquí!\n",
            "-- Vine a traerle este humilde obsequio\n",
            "-- ¿No quiere pasar a tomar un refresco?\n"
          ]
        }
      ],
      "source": [
        "diálogo(bebida=\"un refresco\")"
      ]
    },
    {
      "cell_type": "code",
      "execution_count": 23,
      "metadata": {
        "colab": {
          "base_uri": "https://localhost:8080/"
        },
        "id": "ujShgGbXRlfZ",
        "outputId": "ba4f518b-3a11-415a-b313-e19b983e66fc"
      },
      "outputs": [
        {
          "output_type": "stream",
          "name": "stdout",
          "text": [
            "-- ¡Qué coincidencia que viene por aquí!\n",
            "-- Vine a traerle este humilde obsequio\n",
            "-- ¿No quiere pasar a tomar una tacita de café?\n"
          ]
        }
      ],
      "source": [
        "def diálogo(evento, objeto=\"obsequio\", bebida=\"una tacita de café\"):\n",
        "    print(f\"-- ¡Qué {evento} que viene por aquí!\")\n",
        "    print(f\"-- Vine a traerle este humilde {objeto}\")\n",
        "    print(f\"-- ¿No quiere pasar a tomar {bebida}?\")\n",
        "\n",
        "diálogo(\"coincidencia\")"
      ]
    },
    {
      "cell_type": "code",
      "execution_count": 24,
      "metadata": {
        "colab": {
          "base_uri": "https://localhost:8080/"
        },
        "id": "_HyGykKkRlfZ",
        "outputId": "e546474b-c004-4f56-ef98-bd6d5af43ddc"
      },
      "outputs": [
        {
          "output_type": "stream",
          "name": "stdout",
          "text": [
            "-- ¡Qué coincidencia que viene por aquí!\n",
            "-- Vine a traerle este humilde obsequio\n",
            "-- ¿No quiere pasar a tomar una copita?\n"
          ]
        }
      ],
      "source": [
        "diálogo(\"coincidencia\", bebida=\"una copita\")"
      ]
    },
    {
      "cell_type": "markdown",
      "metadata": {
        "id": "3OTYPhPHRlfZ"
      },
      "source": [
        "## Ejemplo práctico\n",
        "\n"
      ]
    },
    {
      "cell_type": "code",
      "execution_count": 25,
      "metadata": {
        "colab": {
          "base_uri": "https://localhost:8080/"
        },
        "id": "_7GoXE6QRlfZ",
        "outputId": "78891ceb-dc20-4740-d2a9-a634ac3f16cd"
      },
      "outputs": [
        {
          "output_type": "execute_result",
          "data": {
            "text/plain": [
              "[0, 1, 4, 9, 16, 25, 36, 49, 64, 81, 100]"
            ]
          },
          "metadata": {},
          "execution_count": 25
        }
      ],
      "source": [
        "def cuadrados(n):\n",
        "    cua = []\n",
        "    for i in range(n):\n",
        "        if i**2 <= n:\n",
        "            cua.append(i**2)\n",
        "        else:\n",
        "            break\n",
        "    return cua\n",
        "\n",
        "cuadrados(100)"
      ]
    },
    {
      "cell_type": "code",
      "execution_count": null,
      "metadata": {
        "id": "NfaAUhFZRlfZ"
      },
      "outputs": [],
      "source": [
        "def cuadrados(n, inferior=0):\n",
        "    cua = []\n",
        "    for i in range(n):\n",
        "        if inferior <= i**2 <= n:\n",
        "            cua.append(i**2)\n",
        "        elif i**2 > n:\n",
        "            break\n",
        "    return cua\n",
        "\n",
        "cuadrados(100, inferior=24)"
      ]
    },
    {
      "cell_type": "code",
      "execution_count": 26,
      "metadata": {
        "colab": {
          "base_uri": "https://localhost:8080/",
          "height": 35
        },
        "id": "_bFbf_h7RlfZ",
        "outputId": "1732850c-2b82-4785-bfa8-525293fddafa"
      },
      "outputs": [
        {
          "output_type": "execute_result",
          "data": {
            "text/plain": [
              "'Hola Verania'"
            ],
            "application/vnd.google.colaboratory.intrinsic+json": {
              "type": "string"
            }
          },
          "metadata": {},
          "execution_count": 26
        }
      ],
      "source": [
        "def saludador(saludo):\n",
        "    def tttttttttttt(persona):\n",
        "        return saludo + \" \" + persona\n",
        "    return tttttttttttt\n",
        "\n",
        "f = saludador(\"Hola\")\n",
        "f(\"Verania\")"
      ]
    },
    {
      "cell_type": "code",
      "execution_count": 27,
      "metadata": {
        "colab": {
          "base_uri": "https://localhost:8080/",
          "height": 35
        },
        "id": "U3IINABtRlfZ",
        "outputId": "c42423f9-4251-405a-b5a3-3cdd0cae346d"
      },
      "outputs": [
        {
          "output_type": "execute_result",
          "data": {
            "text/plain": [
              "'Que tal Yessica'"
            ],
            "application/vnd.google.colaboratory.intrinsic+json": {
              "type": "string"
            }
          },
          "metadata": {},
          "execution_count": 27
        }
      ],
      "source": [
        "g = saludador(\"Que tal\")\n",
        "g(\"Yessica\")"
      ]
    },
    {
      "cell_type": "markdown",
      "metadata": {
        "id": "8kk9qPCnRlfZ"
      },
      "source": [
        "## Tarea\n",
        "\n"
      ]
    },
    {
      "cell_type": "markdown",
      "metadata": {
        "id": "bOc4lAyxRlfa"
      },
      "source": [
        "Escribir una función que tenga un argumento obligatorio $n$ y un argumento opcional $pot$, y que regrese los números de fibonacci menores que $n$ que sean una potencia $pot$ exacta.\n",
        "\n"
      ]
    },
    {
      "cell_type": "code",
      "source": [
        "import sympy as sp\n",
        "\n",
        "def fibonacci_potencias_exactas(n:int, pot=2):\n",
        "    potencias = []\n",
        "    a, b = 0, 1\n",
        "    while a < n:\n",
        "        if sp.integer_nthroot(a, pot)[1] == True:\n",
        "            potencias.append(a)\n",
        "            a, b = b, a+b\n",
        "        else:\n",
        "            a, b = b, a+b\n",
        "    return potencias\n",
        "\n",
        "print(fibonacci_potencias_exactas(n=100000000000, pot=3))"
      ],
      "metadata": {
        "colab": {
          "base_uri": "https://localhost:8080/"
        },
        "id": "yZ1izTxAR8O0",
        "outputId": "29539305-9cf6-4e70-bec6-00aa2f92ef49"
      },
      "execution_count": 30,
      "outputs": [
        {
          "output_type": "stream",
          "name": "stdout",
          "text": [
            "[0, 1, 1, 8]\n"
          ]
        }
      ]
    },
    {
      "cell_type": "markdown",
      "metadata": {
        "id": "1RukBbEFRlfa"
      },
      "source": [
        "## Documentación de las funciones y funciones anónimas\n",
        "\n"
      ]
    },
    {
      "cell_type": "code",
      "execution_count": null,
      "metadata": {
        "id": "kdV-uT8YRlfa"
      },
      "outputs": [],
      "source": [
        "def saludador(saludo=\"Hola\"):\n",
        "    \"\"\"Una función que regresa funciones saludadoras.\"\"\"\n",
        "    return lambda persona: saludo + \" \" + persona\n",
        "\n",
        "help(saludador)"
      ]
    },
    {
      "cell_type": "code",
      "execution_count": null,
      "metadata": {
        "id": "9NmNhQJyRlfa"
      },
      "outputs": [],
      "source": [
        "g = saludador(\"Que tal\")\n",
        "g(\"Karen\")"
      ]
    },
    {
      "cell_type": "code",
      "execution_count": null,
      "metadata": {
        "id": "PvPg19EoRlfa"
      },
      "outputs": [],
      "source": [
        "fun = lambda x: x**2\n",
        "\n",
        "fun(4)"
      ]
    },
    {
      "cell_type": "markdown",
      "metadata": {
        "id": "jOEimMOMRlfa"
      },
      "source": [
        "## Copia superficial\n",
        "\n"
      ]
    },
    {
      "cell_type": "markdown",
      "metadata": {
        "id": "VIvaz0qIRlfb"
      },
      "source": [
        "En inglés se llama *shallow copy*.\n",
        "\n"
      ]
    },
    {
      "cell_type": "code",
      "execution_count": null,
      "metadata": {
        "id": "N0SJ4PknRlfc"
      },
      "outputs": [],
      "source": [
        "estudiantes"
      ]
    },
    {
      "cell_type": "code",
      "execution_count": null,
      "metadata": {
        "id": "t0Ub576kRlfc"
      },
      "outputs": [],
      "source": [
        "alumnos = estudiantes\n",
        "alumnos.append(\"Nuevo\")\n",
        "alumnos"
      ]
    },
    {
      "cell_type": "code",
      "execution_count": null,
      "metadata": {
        "id": "XoS5FqHKRlfc"
      },
      "outputs": [],
      "source": [
        "estudiantes"
      ]
    },
    {
      "cell_type": "code",
      "execution_count": null,
      "metadata": {
        "id": "JurzTRvtRlfc"
      },
      "outputs": [],
      "source": [
        "a = 1\n",
        "b = a\n",
        "b = b+1\n",
        "b"
      ]
    },
    {
      "cell_type": "code",
      "execution_count": null,
      "metadata": {
        "id": "sUNGIzRNRlfc"
      },
      "outputs": [],
      "source": [
        "a"
      ]
    },
    {
      "cell_type": "markdown",
      "metadata": {
        "id": "sftmY7P2Rlfc"
      },
      "source": [
        "### Más métodos del tipo lista\n",
        "\n"
      ]
    },
    {
      "cell_type": "code",
      "execution_count": null,
      "metadata": {
        "id": "LXGDIHngRlfc"
      },
      "outputs": [],
      "source": [
        "alumnos.pop()"
      ]
    },
    {
      "cell_type": "code",
      "execution_count": null,
      "metadata": {
        "id": "hW68vaEnRlfd"
      },
      "outputs": [],
      "source": [
        "alumnos"
      ]
    },
    {
      "cell_type": "code",
      "execution_count": null,
      "metadata": {
        "id": "-tDlo2P6Rlfd"
      },
      "outputs": [],
      "source": [
        "estudiantes"
      ]
    },
    {
      "cell_type": "code",
      "execution_count": null,
      "metadata": {
        "id": "Vai-ocjKRlfd"
      },
      "outputs": [],
      "source": [
        "alumnos2 = estudiantes.copy()\n",
        "alumnos2"
      ]
    },
    {
      "cell_type": "code",
      "execution_count": null,
      "metadata": {
        "id": "0cHtQyqyRlfd"
      },
      "outputs": [],
      "source": [
        "alumnos2.append(\"Nuevo\")\n",
        "alumnos2"
      ]
    },
    {
      "cell_type": "code",
      "execution_count": null,
      "metadata": {
        "id": "Ecc9mFW8Rlfd"
      },
      "outputs": [],
      "source": [
        "estudiantes"
      ]
    }
  ],
  "metadata": {
    "kernelspec": {
      "display_name": "Python 3",
      "language": "python",
      "name": "python3"
    },
    "language_info": {
      "codemirror_mode": {
        "name": "ipython",
        "version": 3
      },
      "file_extension": ".py",
      "mimetype": "text/x-python",
      "name": "python",
      "nbconvert_exporter": "python",
      "pygments_lexer": "ipython3",
      "version": "3.9.2"
    },
    "org": null,
    "colab": {
      "provenance": [],
      "include_colab_link": true
    }
  },
  "nbformat": 4,
  "nbformat_minor": 0
}